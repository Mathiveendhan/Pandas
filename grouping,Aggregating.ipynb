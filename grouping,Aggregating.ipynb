{
 "cells": [
  {
   "cell_type": "code",
   "execution_count": 1,
   "id": "657ecb81-d6e4-4b8d-8a7f-0e2d77b1e188",
   "metadata": {},
   "outputs": [
    {
     "data": {
      "text/html": [
       "<div>\n",
       "<style scoped>\n",
       "    .dataframe tbody tr th:only-of-type {\n",
       "        vertical-align: middle;\n",
       "    }\n",
       "\n",
       "    .dataframe tbody tr th {\n",
       "        vertical-align: top;\n",
       "    }\n",
       "\n",
       "    .dataframe thead th {\n",
       "        text-align: right;\n",
       "    }\n",
       "</style>\n",
       "<table border=\"1\" class=\"dataframe\">\n",
       "  <thead>\n",
       "    <tr style=\"text-align: right;\">\n",
       "      <th></th>\n",
       "      <th>name</th>\n",
       "      <th>ratings</th>\n",
       "      <th>price</th>\n",
       "      <th>imgURL</th>\n",
       "      <th>storage_ram</th>\n",
       "      <th>os_processor</th>\n",
       "      <th>camera</th>\n",
       "      <th>display</th>\n",
       "      <th>network</th>\n",
       "      <th>battery</th>\n",
       "    </tr>\n",
       "  </thead>\n",
       "  <tbody>\n",
       "    <tr>\n",
       "      <th>0</th>\n",
       "      <td>SAMSUNG Galaxy F13 (Sunrise Copper, 64 GB)</td>\n",
       "      <td>4.3</td>\n",
       "      <td>₹9,499</td>\n",
       "      <td>https://rukminim2.flixcart.com/image/312/312/x...</td>\n",
       "      <td>Internal Storage64 GBRAM4 GBExpandable Storage...</td>\n",
       "      <td>Operating SystemAndroid 12Processor TypeExynos...</td>\n",
       "      <td>Primary Camera AvailableYesPrimary Camera50MP ...</td>\n",
       "      <td>Display Size16.76 cm (6.6 inch)Resolution2408 ...</td>\n",
       "      <td>Network Type4G, 3G, 2GSupported Networks4G LTE...</td>\n",
       "      <td>Battery Capacity6000 mAhDual BatteryNo</td>\n",
       "    </tr>\n",
       "    <tr>\n",
       "      <th>1</th>\n",
       "      <td>SAMSUNG Galaxy F13 (Waterfall Blue, 128 GB)</td>\n",
       "      <td>4.3</td>\n",
       "      <td>₹10,499</td>\n",
       "      <td>https://rukminim2.flixcart.com/image/312/312/x...</td>\n",
       "      <td>Internal Storage128 GBRAM4 GBExpandable Storag...</td>\n",
       "      <td>Operating SystemAndroid 12Processor TypeExynos...</td>\n",
       "      <td>Primary Camera AvailableYesPrimary Camera50MP ...</td>\n",
       "      <td>Display Size16.76 cm (6.6 inch)Resolution2408 ...</td>\n",
       "      <td>Network Type4G, 3G, 2GSupported Networks4G LTE...</td>\n",
       "      <td>Battery Capacity6000 mAhDual BatteryNo</td>\n",
       "    </tr>\n",
       "    <tr>\n",
       "      <th>2</th>\n",
       "      <td>SAMSUNG Galaxy F13 (Nightsky Green, 128 GB)</td>\n",
       "      <td>4.3</td>\n",
       "      <td>₹10,499</td>\n",
       "      <td>https://rukminim2.flixcart.com/image/312/312/x...</td>\n",
       "      <td>Internal Storage128 GBRAM4 GBExpandable Storag...</td>\n",
       "      <td>Operating SystemAndroid 12Processor TypeExynos...</td>\n",
       "      <td>Primary Camera AvailableYesPrimary Camera50MP ...</td>\n",
       "      <td>Display Size16.76 cm (6.6 inch)Resolution2408 ...</td>\n",
       "      <td>Network Type4G, 3G, 2GSupported Networks4G LTE...</td>\n",
       "      <td>Battery Capacity6000 mAhDual BatteryNo</td>\n",
       "    </tr>\n",
       "    <tr>\n",
       "      <th>3</th>\n",
       "      <td>SAMSUNG Galaxy F13 (Sunrise Copper, 128 GB)</td>\n",
       "      <td>4.3</td>\n",
       "      <td>₹10,499</td>\n",
       "      <td>https://rukminim2.flixcart.com/image/312/312/x...</td>\n",
       "      <td>Internal Storage128 GBRAM4 GBExpandable Storag...</td>\n",
       "      <td>Operating SystemAndroid 12Processor TypeExynos...</td>\n",
       "      <td>Primary Camera AvailableYesPrimary Camera50MP ...</td>\n",
       "      <td>Display Size16.76 cm (6.6 inch)Resolution2408 ...</td>\n",
       "      <td>Network Type4G, 3G, 2GSupported Networks4G LTE...</td>\n",
       "      <td>Battery Capacity6000 mAhDual BatteryNo</td>\n",
       "    </tr>\n",
       "    <tr>\n",
       "      <th>4</th>\n",
       "      <td>SAMSUNG Galaxy F23 5G (Aqua Blue, 128 GB)</td>\n",
       "      <td>4.3</td>\n",
       "      <td>₹15,499</td>\n",
       "      <td>https://rukminim2.flixcart.com/image/312/312/x...</td>\n",
       "      <td>Internal Storage128 GBRAM6 GBTotal Memory128 G...</td>\n",
       "      <td>Operating SystemAndroid 12Processor TypeQualco...</td>\n",
       "      <td>Primary Camera AvailableYesPrimary Camera50MP ...</td>\n",
       "      <td>Display Size16.76 cm (6.6 inch)Resolution2408 ...</td>\n",
       "      <td>Network Type5G, 4G, 3G, 2GSupported Networks5G...</td>\n",
       "      <td>Battery Capacity5000 mAh</td>\n",
       "    </tr>\n",
       "    <tr>\n",
       "      <th>...</th>\n",
       "      <td>...</td>\n",
       "      <td>...</td>\n",
       "      <td>...</td>\n",
       "      <td>...</td>\n",
       "      <td>...</td>\n",
       "      <td>...</td>\n",
       "      <td>...</td>\n",
       "      <td>...</td>\n",
       "      <td>...</td>\n",
       "      <td>...</td>\n",
       "    </tr>\n",
       "    <tr>\n",
       "      <th>571</th>\n",
       "      <td>SAMSUNG Galaxy A30s (Prism Crush Violet, 64 GB)</td>\n",
       "      <td>4.3</td>\n",
       "      <td>₹16,199</td>\n",
       "      <td>https://rukminim2.flixcart.com/image/312/312/k...</td>\n",
       "      <td>Internal Storage64 GBRAM4 GBSupported Memory C...</td>\n",
       "      <td>Operating SystemAndroid Pie 9.0Processor TypeE...</td>\n",
       "      <td>Primary Camera AvailableYesPrimary Camera25MP ...</td>\n",
       "      <td>Display Size16.26 cm (6.4 inch)Resolution1920 ...</td>\n",
       "      <td>Network Type3G, 4G, 2GSupported NetworksGSM, W...</td>\n",
       "      <td>Battery Capacity4000 mAh</td>\n",
       "    </tr>\n",
       "    <tr>\n",
       "      <th>572</th>\n",
       "      <td>SAMSUNG Galaxy J4 Plus (Black, 32 GB)</td>\n",
       "      <td>4.4</td>\n",
       "      <td>₹9,000</td>\n",
       "      <td>https://rukminim2.flixcart.com/image/312/312/j...</td>\n",
       "      <td>Internal Storage32 GBRAM2 GBExpandable Storage...</td>\n",
       "      <td>Operating SystemAndroid Oreo 8.1Processor Type...</td>\n",
       "      <td>Primary Camera AvailableYesPrimary Camera13MP ...</td>\n",
       "      <td>Display Size15.24 cm (6 inch)Resolution720 x 1...</td>\n",
       "      <td>Network Type3G, 4G, 2GSupported NetworksGSM, W...</td>\n",
       "      <td>Battery Capacity3300 mAhDual BatteryNo</td>\n",
       "    </tr>\n",
       "    <tr>\n",
       "      <th>573</th>\n",
       "      <td>SAMSUNG Galaxy A71 (Prism Crush Black, 128 GB)</td>\n",
       "      <td>4.2</td>\n",
       "      <td>₹34,999</td>\n",
       "      <td>https://rukminim2.flixcart.com/image/312/312/k...</td>\n",
       "      <td>Internal Storage128 GBRAM8 GBExpandable Storag...</td>\n",
       "      <td>Operating SystemAndroid 10Processor TypeQualco...</td>\n",
       "      <td>Primary Camera AvailableYesPrimary Camera64MP ...</td>\n",
       "      <td>Display Size17.02 cm (6.7 inch)Resolution2340 ...</td>\n",
       "      <td>Network Type4G VOLTE, 4G, 3G, 2GSupported Netw...</td>\n",
       "      <td>Battery Capacity4500 mAh</td>\n",
       "    </tr>\n",
       "    <tr>\n",
       "      <th>574</th>\n",
       "      <td>SAMSUNG Galaxy M01s (Gray, 32 GB)</td>\n",
       "      <td>NaN</td>\n",
       "      <td>₹10,999</td>\n",
       "      <td>https://rukminim2.flixcart.com/image/312/312/k...</td>\n",
       "      <td>Internal Storage32 GBRAM3 GBExpandable Storage...</td>\n",
       "      <td>Operating SystemAndroid Pie 9Processor TypeMed...</td>\n",
       "      <td>Primary Camera AvailableYesPrimary Camera13MP ...</td>\n",
       "      <td>Display Size15.75 cm (6.2 inch)Resolution720 x...</td>\n",
       "      <td>Network Type4G VOLTE, 3GSupported Networks4G V...</td>\n",
       "      <td>Battery Capacity4000 mAhBattery Typelithium-ion</td>\n",
       "    </tr>\n",
       "    <tr>\n",
       "      <th>575</th>\n",
       "      <td>SAMSUNG Galaxy S22 (Pink Gold, 128 GB)</td>\n",
       "      <td>NaN</td>\n",
       "      <td>₹85,999</td>\n",
       "      <td>https://rukminim2.flixcart.com/image/312/312/x...</td>\n",
       "      <td>Internal Storage128 GBRAM8 GBMemory Card Slot ...</td>\n",
       "      <td>Operating SystemAndroid Android 12.0Processor ...</td>\n",
       "      <td>Primary Camera50MP Rear CameraDual Camera Lens...</td>\n",
       "      <td>Display Size15.49 cm (6.1 inch)Resolution2340x...</td>\n",
       "      <td>Network Type5GSupported Networks5G</td>\n",
       "      <td>Battery Capacity3700 mAh</td>\n",
       "    </tr>\n",
       "  </tbody>\n",
       "</table>\n",
       "<p>576 rows × 10 columns</p>\n",
       "</div>"
      ],
      "text/plain": [
       "                                                name  ratings    price  \\\n",
       "0         SAMSUNG Galaxy F13 (Sunrise Copper, 64 GB)      4.3   ₹9,499   \n",
       "1        SAMSUNG Galaxy F13 (Waterfall Blue, 128 GB)      4.3  ₹10,499   \n",
       "2        SAMSUNG Galaxy F13 (Nightsky Green, 128 GB)      4.3  ₹10,499   \n",
       "3        SAMSUNG Galaxy F13 (Sunrise Copper, 128 GB)      4.3  ₹10,499   \n",
       "4          SAMSUNG Galaxy F23 5G (Aqua Blue, 128 GB)      4.3  ₹15,499   \n",
       "..                                               ...      ...      ...   \n",
       "571  SAMSUNG Galaxy A30s (Prism Crush Violet, 64 GB)      4.3  ₹16,199   \n",
       "572            SAMSUNG Galaxy J4 Plus (Black, 32 GB)      4.4   ₹9,000   \n",
       "573   SAMSUNG Galaxy A71 (Prism Crush Black, 128 GB)      4.2  ₹34,999   \n",
       "574                SAMSUNG Galaxy M01s (Gray, 32 GB)      NaN  ₹10,999   \n",
       "575           SAMSUNG Galaxy S22 (Pink Gold, 128 GB)      NaN  ₹85,999   \n",
       "\n",
       "                                                imgURL  \\\n",
       "0    https://rukminim2.flixcart.com/image/312/312/x...   \n",
       "1    https://rukminim2.flixcart.com/image/312/312/x...   \n",
       "2    https://rukminim2.flixcart.com/image/312/312/x...   \n",
       "3    https://rukminim2.flixcart.com/image/312/312/x...   \n",
       "4    https://rukminim2.flixcart.com/image/312/312/x...   \n",
       "..                                                 ...   \n",
       "571  https://rukminim2.flixcart.com/image/312/312/k...   \n",
       "572  https://rukminim2.flixcart.com/image/312/312/j...   \n",
       "573  https://rukminim2.flixcart.com/image/312/312/k...   \n",
       "574  https://rukminim2.flixcart.com/image/312/312/k...   \n",
       "575  https://rukminim2.flixcart.com/image/312/312/x...   \n",
       "\n",
       "                                           storage_ram  \\\n",
       "0    Internal Storage64 GBRAM4 GBExpandable Storage...   \n",
       "1    Internal Storage128 GBRAM4 GBExpandable Storag...   \n",
       "2    Internal Storage128 GBRAM4 GBExpandable Storag...   \n",
       "3    Internal Storage128 GBRAM4 GBExpandable Storag...   \n",
       "4    Internal Storage128 GBRAM6 GBTotal Memory128 G...   \n",
       "..                                                 ...   \n",
       "571  Internal Storage64 GBRAM4 GBSupported Memory C...   \n",
       "572  Internal Storage32 GBRAM2 GBExpandable Storage...   \n",
       "573  Internal Storage128 GBRAM8 GBExpandable Storag...   \n",
       "574  Internal Storage32 GBRAM3 GBExpandable Storage...   \n",
       "575  Internal Storage128 GBRAM8 GBMemory Card Slot ...   \n",
       "\n",
       "                                          os_processor  \\\n",
       "0    Operating SystemAndroid 12Processor TypeExynos...   \n",
       "1    Operating SystemAndroid 12Processor TypeExynos...   \n",
       "2    Operating SystemAndroid 12Processor TypeExynos...   \n",
       "3    Operating SystemAndroid 12Processor TypeExynos...   \n",
       "4    Operating SystemAndroid 12Processor TypeQualco...   \n",
       "..                                                 ...   \n",
       "571  Operating SystemAndroid Pie 9.0Processor TypeE...   \n",
       "572  Operating SystemAndroid Oreo 8.1Processor Type...   \n",
       "573  Operating SystemAndroid 10Processor TypeQualco...   \n",
       "574  Operating SystemAndroid Pie 9Processor TypeMed...   \n",
       "575  Operating SystemAndroid Android 12.0Processor ...   \n",
       "\n",
       "                                                camera  \\\n",
       "0    Primary Camera AvailableYesPrimary Camera50MP ...   \n",
       "1    Primary Camera AvailableYesPrimary Camera50MP ...   \n",
       "2    Primary Camera AvailableYesPrimary Camera50MP ...   \n",
       "3    Primary Camera AvailableYesPrimary Camera50MP ...   \n",
       "4    Primary Camera AvailableYesPrimary Camera50MP ...   \n",
       "..                                                 ...   \n",
       "571  Primary Camera AvailableYesPrimary Camera25MP ...   \n",
       "572  Primary Camera AvailableYesPrimary Camera13MP ...   \n",
       "573  Primary Camera AvailableYesPrimary Camera64MP ...   \n",
       "574  Primary Camera AvailableYesPrimary Camera13MP ...   \n",
       "575  Primary Camera50MP Rear CameraDual Camera Lens...   \n",
       "\n",
       "                                               display  \\\n",
       "0    Display Size16.76 cm (6.6 inch)Resolution2408 ...   \n",
       "1    Display Size16.76 cm (6.6 inch)Resolution2408 ...   \n",
       "2    Display Size16.76 cm (6.6 inch)Resolution2408 ...   \n",
       "3    Display Size16.76 cm (6.6 inch)Resolution2408 ...   \n",
       "4    Display Size16.76 cm (6.6 inch)Resolution2408 ...   \n",
       "..                                                 ...   \n",
       "571  Display Size16.26 cm (6.4 inch)Resolution1920 ...   \n",
       "572  Display Size15.24 cm (6 inch)Resolution720 x 1...   \n",
       "573  Display Size17.02 cm (6.7 inch)Resolution2340 ...   \n",
       "574  Display Size15.75 cm (6.2 inch)Resolution720 x...   \n",
       "575  Display Size15.49 cm (6.1 inch)Resolution2340x...   \n",
       "\n",
       "                                               network  \\\n",
       "0    Network Type4G, 3G, 2GSupported Networks4G LTE...   \n",
       "1    Network Type4G, 3G, 2GSupported Networks4G LTE...   \n",
       "2    Network Type4G, 3G, 2GSupported Networks4G LTE...   \n",
       "3    Network Type4G, 3G, 2GSupported Networks4G LTE...   \n",
       "4    Network Type5G, 4G, 3G, 2GSupported Networks5G...   \n",
       "..                                                 ...   \n",
       "571  Network Type3G, 4G, 2GSupported NetworksGSM, W...   \n",
       "572  Network Type3G, 4G, 2GSupported NetworksGSM, W...   \n",
       "573  Network Type4G VOLTE, 4G, 3G, 2GSupported Netw...   \n",
       "574  Network Type4G VOLTE, 3GSupported Networks4G V...   \n",
       "575                 Network Type5GSupported Networks5G   \n",
       "\n",
       "                                             battery  \n",
       "0             Battery Capacity6000 mAhDual BatteryNo  \n",
       "1             Battery Capacity6000 mAhDual BatteryNo  \n",
       "2             Battery Capacity6000 mAhDual BatteryNo  \n",
       "3             Battery Capacity6000 mAhDual BatteryNo  \n",
       "4                           Battery Capacity5000 mAh  \n",
       "..                                               ...  \n",
       "571                         Battery Capacity4000 mAh  \n",
       "572           Battery Capacity3300 mAhDual BatteryNo  \n",
       "573                         Battery Capacity4500 mAh  \n",
       "574  Battery Capacity4000 mAhBattery Typelithium-ion  \n",
       "575                         Battery Capacity3700 mAh  \n",
       "\n",
       "[576 rows x 10 columns]"
      ]
     },
     "execution_count": 1,
     "metadata": {},
     "output_type": "execute_result"
    }
   ],
   "source": [
    "import pandas as pd\n",
    "df=pd.read_csv(r\"C:\\Users\\Admin\\OneDrive\\Documents\\Dataset\\samsung_mobile_new_data.csv\")\n",
    "df"
   ]
  },
  {
   "cell_type": "code",
   "execution_count": 4,
   "id": "fb8fb851-cd70-42ca-8d96-487710c60ca8",
   "metadata": {},
   "outputs": [
    {
     "data": {
      "text/html": [
       "<div>\n",
       "<style scoped>\n",
       "    .dataframe tbody tr th:only-of-type {\n",
       "        vertical-align: middle;\n",
       "    }\n",
       "\n",
       "    .dataframe tbody tr th {\n",
       "        vertical-align: top;\n",
       "    }\n",
       "\n",
       "    .dataframe thead th {\n",
       "        text-align: right;\n",
       "    }\n",
       "</style>\n",
       "<table border=\"1\" class=\"dataframe\">\n",
       "  <thead>\n",
       "    <tr style=\"text-align: right;\">\n",
       "      <th></th>\n",
       "      <th>name</th>\n",
       "      <th>price</th>\n",
       "    </tr>\n",
       "  </thead>\n",
       "  <tbody>\n",
       "    <tr>\n",
       "      <th>0</th>\n",
       "      <td>SAMSUNG Galaxy F13 (Sunrise Copper, 64 GB)</td>\n",
       "      <td>₹9,499</td>\n",
       "    </tr>\n",
       "    <tr>\n",
       "      <th>1</th>\n",
       "      <td>SAMSUNG Galaxy F13 (Waterfall Blue, 128 GB)</td>\n",
       "      <td>₹10,499</td>\n",
       "    </tr>\n",
       "    <tr>\n",
       "      <th>2</th>\n",
       "      <td>SAMSUNG Galaxy F13 (Nightsky Green, 128 GB)</td>\n",
       "      <td>₹10,499</td>\n",
       "    </tr>\n",
       "    <tr>\n",
       "      <th>3</th>\n",
       "      <td>SAMSUNG Galaxy F13 (Sunrise Copper, 128 GB)</td>\n",
       "      <td>₹10,499</td>\n",
       "    </tr>\n",
       "    <tr>\n",
       "      <th>4</th>\n",
       "      <td>SAMSUNG Galaxy F23 5G (Aqua Blue, 128 GB)</td>\n",
       "      <td>₹15,499</td>\n",
       "    </tr>\n",
       "    <tr>\n",
       "      <th>5</th>\n",
       "      <td>SAMSUNG Galaxy F23 5G (Forest Green, 128 GB)</td>\n",
       "      <td>₹15,499</td>\n",
       "    </tr>\n",
       "  </tbody>\n",
       "</table>\n",
       "</div>"
      ],
      "text/plain": [
       "                                           name    price\n",
       "0    SAMSUNG Galaxy F13 (Sunrise Copper, 64 GB)   ₹9,499\n",
       "1   SAMSUNG Galaxy F13 (Waterfall Blue, 128 GB)  ₹10,499\n",
       "2   SAMSUNG Galaxy F13 (Nightsky Green, 128 GB)  ₹10,499\n",
       "3   SAMSUNG Galaxy F13 (Sunrise Copper, 128 GB)  ₹10,499\n",
       "4     SAMSUNG Galaxy F23 5G (Aqua Blue, 128 GB)  ₹15,499\n",
       "5  SAMSUNG Galaxy F23 5G (Forest Green, 128 GB)  ₹15,499"
      ]
     },
     "execution_count": 4,
     "metadata": {},
     "output_type": "execute_result"
    }
   ],
   "source": [
    "df[['name','price']].head(6)"
   ]
  },
  {
   "cell_type": "code",
   "execution_count": 5,
   "id": "f987020f-140e-4614-ac22-71a282e80950",
   "metadata": {},
   "outputs": [
    {
     "data": {
      "text/plain": [
       "0     ₹9,499\n",
       "1    ₹10,499\n",
       "2    ₹10,499\n",
       "3    ₹10,499\n",
       "Name: price, dtype: object"
      ]
     },
     "execution_count": 5,
     "metadata": {},
     "output_type": "execute_result"
    }
   ],
   "source": [
    "df['price'].head(4)"
   ]
  },
  {
   "cell_type": "code",
   "execution_count": 12,
   "id": "39b2e24a-9d45-4972-981f-3b2604c51f1f",
   "metadata": {},
   "outputs": [
    {
     "data": {
      "text/plain": [
       "576"
      ]
     },
     "execution_count": 12,
     "metadata": {},
     "output_type": "execute_result"
    }
   ],
   "source": [
    "df['price'].count()"
   ]
  },
  {
   "cell_type": "code",
   "execution_count": 11,
   "id": "9ad41c83-717b-4128-b0c6-f8c88aacf188",
   "metadata": {},
   "outputs": [
    {
     "data": {
      "text/html": [
       "<div>\n",
       "<style scoped>\n",
       "    .dataframe tbody tr th:only-of-type {\n",
       "        vertical-align: middle;\n",
       "    }\n",
       "\n",
       "    .dataframe tbody tr th {\n",
       "        vertical-align: top;\n",
       "    }\n",
       "\n",
       "    .dataframe thead th {\n",
       "        text-align: right;\n",
       "    }\n",
       "</style>\n",
       "<table border=\"1\" class=\"dataframe\">\n",
       "  <thead>\n",
       "    <tr style=\"text-align: right;\">\n",
       "      <th></th>\n",
       "      <th>ratings</th>\n",
       "    </tr>\n",
       "  </thead>\n",
       "  <tbody>\n",
       "    <tr>\n",
       "      <th>count</th>\n",
       "      <td>553.000000</td>\n",
       "    </tr>\n",
       "    <tr>\n",
       "      <th>mean</th>\n",
       "      <td>4.197468</td>\n",
       "    </tr>\n",
       "    <tr>\n",
       "      <th>std</th>\n",
       "      <td>0.203931</td>\n",
       "    </tr>\n",
       "    <tr>\n",
       "      <th>min</th>\n",
       "      <td>2.900000</td>\n",
       "    </tr>\n",
       "    <tr>\n",
       "      <th>25%</th>\n",
       "      <td>4.100000</td>\n",
       "    </tr>\n",
       "    <tr>\n",
       "      <th>50%</th>\n",
       "      <td>4.200000</td>\n",
       "    </tr>\n",
       "    <tr>\n",
       "      <th>75%</th>\n",
       "      <td>4.300000</td>\n",
       "    </tr>\n",
       "    <tr>\n",
       "      <th>max</th>\n",
       "      <td>4.800000</td>\n",
       "    </tr>\n",
       "  </tbody>\n",
       "</table>\n",
       "</div>"
      ],
      "text/plain": [
       "          ratings\n",
       "count  553.000000\n",
       "mean     4.197468\n",
       "std      0.203931\n",
       "min      2.900000\n",
       "25%      4.100000\n",
       "50%      4.200000\n",
       "75%      4.300000\n",
       "max      4.800000"
      ]
     },
     "execution_count": 11,
     "metadata": {},
     "output_type": "execute_result"
    }
   ],
   "source": [
    "df.describe()"
   ]
  },
  {
   "cell_type": "code",
   "execution_count": 13,
   "id": "ee9159b2-4ffc-4c30-a9dc-ffce4c59c66a",
   "metadata": {},
   "outputs": [
    {
     "data": {
      "text/plain": [
       "price\n",
       "₹32,999      21\n",
       "₹14,499      11\n",
       "₹31,999      11\n",
       "₹15,999      10\n",
       "₹13,999      10\n",
       "             ..\n",
       "₹1,71,999     1\n",
       "₹24,490       1\n",
       "₹1,01,999     1\n",
       "₹62,500       1\n",
       "₹9,000        1\n",
       "Name: count, Length: 267, dtype: int64"
      ]
     },
     "execution_count": 13,
     "metadata": {},
     "output_type": "execute_result"
    }
   ],
   "source": [
    "df['price'].value_counts()"
   ]
  },
  {
   "cell_type": "code",
   "execution_count": 16,
   "id": "36160f28-6391-4938-89d3-225341a5e48a",
   "metadata": {},
   "outputs": [
    {
     "data": {
      "text/plain": [
       "ratings\n",
       "4.2    165\n",
       "4.3    153\n",
       "4.1     98\n",
       "4.0     37\n",
       "4.4     37\n",
       "4.5     24\n",
       "3.9     11\n",
       "3.7      9\n",
       "4.6      5\n",
       "2.9      4\n",
       "3.8      3\n",
       "4.7      2\n",
       "3.3      2\n",
       "3.6      1\n",
       "4.8      1\n",
       "3.1      1\n",
       "Name: count, dtype: int64"
      ]
     },
     "execution_count": 16,
     "metadata": {},
     "output_type": "execute_result"
    }
   ],
   "source": [
    "df['ratings'].value_counts()"
   ]
  },
  {
   "cell_type": "code",
   "execution_count": 18,
   "id": "49903186-7c66-4588-b8a9-2fc707f09741",
   "metadata": {},
   "outputs": [
    {
     "data": {
      "text/plain": [
       "ratings\n",
       "4.2    165\n",
       "4.3    153\n",
       "4.1     98\n",
       "4.0     37\n",
       "4.4     37\n",
       "4.5     24\n",
       "3.9     11\n",
       "3.7      9\n",
       "4.6      5\n",
       "2.9      4\n",
       "3.8      3\n",
       "4.7      2\n",
       "3.3      2\n",
       "3.6      1\n",
       "4.8      1\n",
       "3.1      1\n",
       "Name: count, dtype: int64"
      ]
     },
     "execution_count": 18,
     "metadata": {},
     "output_type": "execute_result"
    }
   ],
   "source": [
    "df['ratings'].value_counts(normalize=False)"
   ]
  },
  {
   "cell_type": "code",
   "execution_count": 19,
   "id": "19943547-455e-4cdf-a9a0-213543ed3ed7",
   "metadata": {},
   "outputs": [
    {
     "data": {
      "text/plain": [
       "ratings\n",
       "4.2    0.298373\n",
       "4.3    0.276673\n",
       "4.1    0.177215\n",
       "4.0    0.066908\n",
       "4.4    0.066908\n",
       "4.5    0.043400\n",
       "3.9    0.019892\n",
       "3.7    0.016275\n",
       "4.6    0.009042\n",
       "2.9    0.007233\n",
       "3.8    0.005425\n",
       "4.7    0.003617\n",
       "3.3    0.003617\n",
       "3.6    0.001808\n",
       "4.8    0.001808\n",
       "3.1    0.001808\n",
       "Name: proportion, dtype: float64"
      ]
     },
     "execution_count": 19,
     "metadata": {},
     "output_type": "execute_result"
    }
   ],
   "source": [
    "df['ratings'].value_counts(normalize=True)"
   ]
  },
  {
   "cell_type": "code",
   "execution_count": 20,
   "id": "e9ca0f0a-a997-42f4-be75-e009947067d7",
   "metadata": {},
   "outputs": [
    {
     "data": {
      "text/plain": [
       "<pandas.core.groupby.generic.DataFrameGroupBy object at 0x000001EBF4557950>"
      ]
     },
     "execution_count": 20,
     "metadata": {},
     "output_type": "execute_result"
    }
   ],
   "source": [
    "df.groupby(['ratings'])"
   ]
  },
  {
   "cell_type": "code",
   "execution_count": null,
   "id": "ebad59ce-1f7e-40a4-aacd-8b5cabcc1f90",
   "metadata": {},
   "outputs": [],
   "source": [
    "\n",
    "\n",
    "#####################################################################################################\n",
    "\n"
   ]
  },
  {
   "cell_type": "code",
   "execution_count": 37,
   "id": "866b49c5-0d15-433b-828c-51d31ee6a5fb",
   "metadata": {},
   "outputs": [],
   "source": [
    "price_grp=df.groupby([\"price\"])"
   ]
  },
  {
   "cell_type": "code",
   "execution_count": 38,
   "id": "522c10ab-74fd-43c7-8c75-858f281a592a",
   "metadata": {},
   "outputs": [
    {
     "name": "stderr",
     "output_type": "stream",
     "text": [
      "C:\\Users\\Admin\\AppData\\Local\\Temp\\ipykernel_2652\\3367858059.py:1: FutureWarning: When grouping with a length-1 list-like, you will need to pass a length-1 tuple to get_group in a future version of pandas. Pass `(name,)` instead of `name` to silence this warning.\n",
      "  price_grp.get_group('₹15,999')\n"
     ]
    },
    {
     "data": {
      "text/html": [
       "<div>\n",
       "<style scoped>\n",
       "    .dataframe tbody tr th:only-of-type {\n",
       "        vertical-align: middle;\n",
       "    }\n",
       "\n",
       "    .dataframe tbody tr th {\n",
       "        vertical-align: top;\n",
       "    }\n",
       "\n",
       "    .dataframe thead th {\n",
       "        text-align: right;\n",
       "    }\n",
       "</style>\n",
       "<table border=\"1\" class=\"dataframe\">\n",
       "  <thead>\n",
       "    <tr style=\"text-align: right;\">\n",
       "      <th></th>\n",
       "      <th>name</th>\n",
       "      <th>ratings</th>\n",
       "      <th>price</th>\n",
       "      <th>imgURL</th>\n",
       "      <th>storage_ram</th>\n",
       "      <th>os_processor</th>\n",
       "      <th>camera</th>\n",
       "      <th>display</th>\n",
       "      <th>network</th>\n",
       "      <th>battery</th>\n",
       "    </tr>\n",
       "  </thead>\n",
       "  <tbody>\n",
       "    <tr>\n",
       "      <th>69</th>\n",
       "      <td>SAMSUNG Galaxy A14 5G (Black, 64 GB)</td>\n",
       "      <td>4.1</td>\n",
       "      <td>₹15,999</td>\n",
       "      <td>https://rukminim2.flixcart.com/image/312/312/x...</td>\n",
       "      <td>Internal Storage64 GBRAM4 GBTotal Memory64 GBE...</td>\n",
       "      <td>Operating SystemAndroid 13Processor TypeSEC S5...</td>\n",
       "      <td>Primary Camera AvailableYesPrimary Camera50MP ...</td>\n",
       "      <td>Display Size16.76 cm (6.6 inch)Resolution2408 ...</td>\n",
       "      <td>Network Type5G, 4G, 3G, 2GSupported Networks5G...</td>\n",
       "      <td>Battery Capacity5000 mAhDual BatteryNo</td>\n",
       "    </tr>\n",
       "    <tr>\n",
       "      <th>75</th>\n",
       "      <td>SAMSUNG Galaxy A14 5G (Black, 64 GB)</td>\n",
       "      <td>4.1</td>\n",
       "      <td>₹15,999</td>\n",
       "      <td>https://rukminim2.flixcart.com/image/312/312/x...</td>\n",
       "      <td>Internal Storage64 GBRAM4 GBTotal Memory64 GBE...</td>\n",
       "      <td>Operating SystemAndroid 12Processor TypeMediat...</td>\n",
       "      <td>Primary Camera AvailableYesPrimary Camera50MP ...</td>\n",
       "      <td>Display Size16.76 cm (6.6 inch)Resolution2408 ...</td>\n",
       "      <td>Network Type5G, 4G, 3G, 2GSupported Networks5G...</td>\n",
       "      <td>Battery Capacity5000 mAhDual BatteryNo</td>\n",
       "    </tr>\n",
       "    <tr>\n",
       "      <th>91</th>\n",
       "      <td>SAMSUNG Galaxy A14 5G (Light Green, 64 GB)</td>\n",
       "      <td>4.1</td>\n",
       "      <td>₹15,999</td>\n",
       "      <td>https://rukminim2.flixcart.com/image/312/312/x...</td>\n",
       "      <td>Internal Storage64 GBRAM4 GBTotal Memory64 GBE...</td>\n",
       "      <td>Operating SystemAndroid Oreo V11Processor Core...</td>\n",
       "      <td>Primary Camera AvailableYesPrimary Camera50MP ...</td>\n",
       "      <td>Display Size16.76 cm (6.6 inch)Resolution2408 ...</td>\n",
       "      <td>Network Type5G, 4G, 3G, 2GSupported Networks5G...</td>\n",
       "      <td>Battery Capacity5000 mAhDual BatteryNo</td>\n",
       "    </tr>\n",
       "    <tr>\n",
       "      <th>93</th>\n",
       "      <td>SAMSUNG Galaxy A14 5G (Dark Red, 64 GB)</td>\n",
       "      <td>4.1</td>\n",
       "      <td>₹15,999</td>\n",
       "      <td>https://rukminim2.flixcart.com/image/312/312/x...</td>\n",
       "      <td>Internal Storage64 GBRAM4 GBTotal Memory64 GBE...</td>\n",
       "      <td>Operating SystemAndroid 13Processor TypeExynos...</td>\n",
       "      <td>Primary Camera AvailableYesPrimary Camera50MP ...</td>\n",
       "      <td>Display Size16.76 cm (6.6 inch)Resolution2408 ...</td>\n",
       "      <td>Network Type5G, 4G, 3G, 2GSupported Networks5G...</td>\n",
       "      <td>Battery Capacity5000 mAhDual BatteryNo</td>\n",
       "    </tr>\n",
       "    <tr>\n",
       "      <th>232</th>\n",
       "      <td>SAMSUNG Galaxy A13 (Green, 64 GB)</td>\n",
       "      <td>4.1</td>\n",
       "      <td>₹15,999</td>\n",
       "      <td>https://rukminim2.flixcart.com/image/312/312/x...</td>\n",
       "      <td>Internal Storage64 GBRAM4 GBTotal Memory64 GBE...</td>\n",
       "      <td>Operating SystemAndroid 12Processor TypeExynos...</td>\n",
       "      <td>Primary Camera AvailableYesPrimary Camera50MP ...</td>\n",
       "      <td>Display Size16.76 cm (6.6 inch)Resolution1923 ...</td>\n",
       "      <td>Network Type4G, 3G, 2GSupported Networks4G LTE...</td>\n",
       "      <td>Battery Capacity5000 mAh</td>\n",
       "    </tr>\n",
       "    <tr>\n",
       "      <th>342</th>\n",
       "      <td>SAMSUNG Galaxy F41 (Fusion Black, 64 GB)</td>\n",
       "      <td>4.0</td>\n",
       "      <td>₹15,999</td>\n",
       "      <td>https://rukminim2.flixcart.com/image/312/312/k...</td>\n",
       "      <td>Internal Storage64 GBRAM6 GBExpandable Storage...</td>\n",
       "      <td>Operating SystemAndroid 10Processor TypeExynos...</td>\n",
       "      <td>Primary Camera AvailableYesPrimary Camera64MP ...</td>\n",
       "      <td>Display Size16.26 cm (6.4 inch)Resolution2340 ...</td>\n",
       "      <td>Network Type4G, 3G, 2GSupported Networks4G LTE...</td>\n",
       "      <td>Battery Capacity6000 mAh</td>\n",
       "    </tr>\n",
       "    <tr>\n",
       "      <th>358</th>\n",
       "      <td>SAMSUNG Galaxy F41 (Fusion Blue, 64 GB)</td>\n",
       "      <td>4.3</td>\n",
       "      <td>₹15,999</td>\n",
       "      <td>https://rukminim2.flixcart.com/image/312/312/k...</td>\n",
       "      <td>Internal Storage128 GBRAM8 GBPhone Book Memory...</td>\n",
       "      <td>NaN</td>\n",
       "      <td>Primary Camera AvailableYesPrimary Camera64MP ...</td>\n",
       "      <td>Display Size17.02 cm (6.7 inch)Resolution2400 ...</td>\n",
       "      <td>Network Type5G, 4G VOLTE, 4G, 3G, 2GSupported ...</td>\n",
       "      <td>Battery Capacity4800 mAh</td>\n",
       "    </tr>\n",
       "    <tr>\n",
       "      <th>476</th>\n",
       "      <td>SAMSUNG Galaxy F41 (Fusion Black, 64 GB)</td>\n",
       "      <td>4.0</td>\n",
       "      <td>₹15,999</td>\n",
       "      <td>https://rukminim2.flixcart.com/image/312/312/k...</td>\n",
       "      <td>Internal Storage64 GBRAM6 GBExpandable Storage...</td>\n",
       "      <td>Operating SystemAndroid 10Processor TypeExynos...</td>\n",
       "      <td>Primary Camera AvailableNoSecondary Camera Ava...</td>\n",
       "      <td>Display Size16.26 cm (6.4 inch)Resolution2340 ...</td>\n",
       "      <td>Network Type4G, 3G, 2GSupported Networks4G LTE...</td>\n",
       "      <td>Battery Capacity6000 mAh</td>\n",
       "    </tr>\n",
       "    <tr>\n",
       "      <th>500</th>\n",
       "      <td>SAMSUNG Galaxy F41 (Fusion Blue, 64 GB)</td>\n",
       "      <td>4.3</td>\n",
       "      <td>₹15,999</td>\n",
       "      <td>https://rukminim2.flixcart.com/image/312/312/k...</td>\n",
       "      <td>Internal Storage64 GBRAM6 GBExpandable Storage...</td>\n",
       "      <td>Operating SystemAndroid Oreo 8.1Processor Type...</td>\n",
       "      <td>Primary Camera AvailableYesPrimary Camera64MP ...</td>\n",
       "      <td>Display Size16.26 cm (6.4 inch)Resolution2340 ...</td>\n",
       "      <td>Network Type5G, 4G VOLTE, 4G, 3G, 2GSupported ...</td>\n",
       "      <td>Battery Capacity6000 mAh</td>\n",
       "    </tr>\n",
       "    <tr>\n",
       "      <th>519</th>\n",
       "      <td>SAMSUNG Galaxy F41 (Fusion Green, 64 GB)</td>\n",
       "      <td>4.3</td>\n",
       "      <td>₹15,999</td>\n",
       "      <td>https://rukminim2.flixcart.com/image/312/312/k...</td>\n",
       "      <td>Internal Storage64 GBRAM6 GBExpandable Storage...</td>\n",
       "      <td>Operating SystemAndroid 10Processor TypeExynos...</td>\n",
       "      <td>Primary Camera AvailableYesPrimary Camera64MP ...</td>\n",
       "      <td>Display Size16.26 cm (6.4 inch)Resolution2340 ...</td>\n",
       "      <td>Network Type4G, 3G, 2GSupported Networks4G LTE...</td>\n",
       "      <td>Battery Capacity6000 mAh</td>\n",
       "    </tr>\n",
       "  </tbody>\n",
       "</table>\n",
       "</div>"
      ],
      "text/plain": [
       "                                           name  ratings    price  \\\n",
       "69         SAMSUNG Galaxy A14 5G (Black, 64 GB)      4.1  ₹15,999   \n",
       "75         SAMSUNG Galaxy A14 5G (Black, 64 GB)      4.1  ₹15,999   \n",
       "91   SAMSUNG Galaxy A14 5G (Light Green, 64 GB)      4.1  ₹15,999   \n",
       "93      SAMSUNG Galaxy A14 5G (Dark Red, 64 GB)      4.1  ₹15,999   \n",
       "232           SAMSUNG Galaxy A13 (Green, 64 GB)      4.1  ₹15,999   \n",
       "342    SAMSUNG Galaxy F41 (Fusion Black, 64 GB)      4.0  ₹15,999   \n",
       "358     SAMSUNG Galaxy F41 (Fusion Blue, 64 GB)      4.3  ₹15,999   \n",
       "476    SAMSUNG Galaxy F41 (Fusion Black, 64 GB)      4.0  ₹15,999   \n",
       "500     SAMSUNG Galaxy F41 (Fusion Blue, 64 GB)      4.3  ₹15,999   \n",
       "519    SAMSUNG Galaxy F41 (Fusion Green, 64 GB)      4.3  ₹15,999   \n",
       "\n",
       "                                                imgURL  \\\n",
       "69   https://rukminim2.flixcart.com/image/312/312/x...   \n",
       "75   https://rukminim2.flixcart.com/image/312/312/x...   \n",
       "91   https://rukminim2.flixcart.com/image/312/312/x...   \n",
       "93   https://rukminim2.flixcart.com/image/312/312/x...   \n",
       "232  https://rukminim2.flixcart.com/image/312/312/x...   \n",
       "342  https://rukminim2.flixcart.com/image/312/312/k...   \n",
       "358  https://rukminim2.flixcart.com/image/312/312/k...   \n",
       "476  https://rukminim2.flixcart.com/image/312/312/k...   \n",
       "500  https://rukminim2.flixcart.com/image/312/312/k...   \n",
       "519  https://rukminim2.flixcart.com/image/312/312/k...   \n",
       "\n",
       "                                           storage_ram  \\\n",
       "69   Internal Storage64 GBRAM4 GBTotal Memory64 GBE...   \n",
       "75   Internal Storage64 GBRAM4 GBTotal Memory64 GBE...   \n",
       "91   Internal Storage64 GBRAM4 GBTotal Memory64 GBE...   \n",
       "93   Internal Storage64 GBRAM4 GBTotal Memory64 GBE...   \n",
       "232  Internal Storage64 GBRAM4 GBTotal Memory64 GBE...   \n",
       "342  Internal Storage64 GBRAM6 GBExpandable Storage...   \n",
       "358  Internal Storage128 GBRAM8 GBPhone Book Memory...   \n",
       "476  Internal Storage64 GBRAM6 GBExpandable Storage...   \n",
       "500  Internal Storage64 GBRAM6 GBExpandable Storage...   \n",
       "519  Internal Storage64 GBRAM6 GBExpandable Storage...   \n",
       "\n",
       "                                          os_processor  \\\n",
       "69   Operating SystemAndroid 13Processor TypeSEC S5...   \n",
       "75   Operating SystemAndroid 12Processor TypeMediat...   \n",
       "91   Operating SystemAndroid Oreo V11Processor Core...   \n",
       "93   Operating SystemAndroid 13Processor TypeExynos...   \n",
       "232  Operating SystemAndroid 12Processor TypeExynos...   \n",
       "342  Operating SystemAndroid 10Processor TypeExynos...   \n",
       "358                                                NaN   \n",
       "476  Operating SystemAndroid 10Processor TypeExynos...   \n",
       "500  Operating SystemAndroid Oreo 8.1Processor Type...   \n",
       "519  Operating SystemAndroid 10Processor TypeExynos...   \n",
       "\n",
       "                                                camera  \\\n",
       "69   Primary Camera AvailableYesPrimary Camera50MP ...   \n",
       "75   Primary Camera AvailableYesPrimary Camera50MP ...   \n",
       "91   Primary Camera AvailableYesPrimary Camera50MP ...   \n",
       "93   Primary Camera AvailableYesPrimary Camera50MP ...   \n",
       "232  Primary Camera AvailableYesPrimary Camera50MP ...   \n",
       "342  Primary Camera AvailableYesPrimary Camera64MP ...   \n",
       "358  Primary Camera AvailableYesPrimary Camera64MP ...   \n",
       "476  Primary Camera AvailableNoSecondary Camera Ava...   \n",
       "500  Primary Camera AvailableYesPrimary Camera64MP ...   \n",
       "519  Primary Camera AvailableYesPrimary Camera64MP ...   \n",
       "\n",
       "                                               display  \\\n",
       "69   Display Size16.76 cm (6.6 inch)Resolution2408 ...   \n",
       "75   Display Size16.76 cm (6.6 inch)Resolution2408 ...   \n",
       "91   Display Size16.76 cm (6.6 inch)Resolution2408 ...   \n",
       "93   Display Size16.76 cm (6.6 inch)Resolution2408 ...   \n",
       "232  Display Size16.76 cm (6.6 inch)Resolution1923 ...   \n",
       "342  Display Size16.26 cm (6.4 inch)Resolution2340 ...   \n",
       "358  Display Size17.02 cm (6.7 inch)Resolution2400 ...   \n",
       "476  Display Size16.26 cm (6.4 inch)Resolution2340 ...   \n",
       "500  Display Size16.26 cm (6.4 inch)Resolution2340 ...   \n",
       "519  Display Size16.26 cm (6.4 inch)Resolution2340 ...   \n",
       "\n",
       "                                               network  \\\n",
       "69   Network Type5G, 4G, 3G, 2GSupported Networks5G...   \n",
       "75   Network Type5G, 4G, 3G, 2GSupported Networks5G...   \n",
       "91   Network Type5G, 4G, 3G, 2GSupported Networks5G...   \n",
       "93   Network Type5G, 4G, 3G, 2GSupported Networks5G...   \n",
       "232  Network Type4G, 3G, 2GSupported Networks4G LTE...   \n",
       "342  Network Type4G, 3G, 2GSupported Networks4G LTE...   \n",
       "358  Network Type5G, 4G VOLTE, 4G, 3G, 2GSupported ...   \n",
       "476  Network Type4G, 3G, 2GSupported Networks4G LTE...   \n",
       "500  Network Type5G, 4G VOLTE, 4G, 3G, 2GSupported ...   \n",
       "519  Network Type4G, 3G, 2GSupported Networks4G LTE...   \n",
       "\n",
       "                                    battery  \n",
       "69   Battery Capacity5000 mAhDual BatteryNo  \n",
       "75   Battery Capacity5000 mAhDual BatteryNo  \n",
       "91   Battery Capacity5000 mAhDual BatteryNo  \n",
       "93   Battery Capacity5000 mAhDual BatteryNo  \n",
       "232                Battery Capacity5000 mAh  \n",
       "342                Battery Capacity6000 mAh  \n",
       "358                Battery Capacity4800 mAh  \n",
       "476                Battery Capacity6000 mAh  \n",
       "500                Battery Capacity6000 mAh  \n",
       "519                Battery Capacity6000 mAh  "
      ]
     },
     "execution_count": 38,
     "metadata": {},
     "output_type": "execute_result"
    }
   ],
   "source": [
    "price_grp.get_group('₹15,999')"
   ]
  },
  {
   "cell_type": "code",
   "execution_count": 39,
   "id": "710050d0-f95b-4367-9981-92939b689659",
   "metadata": {},
   "outputs": [
    {
     "name": "stderr",
     "output_type": "stream",
     "text": [
      "C:\\Users\\Admin\\AppData\\Local\\Temp\\ipykernel_2652\\2877670626.py:1: FutureWarning: When grouping with a length-1 list-like, you will need to pass a length-1 tuple to get_group in a future version of pandas. Pass `(name,)` instead of `name` to silence this warning.\n",
      "  price_grp.get_group('₹85,999')\n"
     ]
    },
    {
     "data": {
      "text/html": [
       "<div>\n",
       "<style scoped>\n",
       "    .dataframe tbody tr th:only-of-type {\n",
       "        vertical-align: middle;\n",
       "    }\n",
       "\n",
       "    .dataframe tbody tr th {\n",
       "        vertical-align: top;\n",
       "    }\n",
       "\n",
       "    .dataframe thead th {\n",
       "        text-align: right;\n",
       "    }\n",
       "</style>\n",
       "<table border=\"1\" class=\"dataframe\">\n",
       "  <thead>\n",
       "    <tr style=\"text-align: right;\">\n",
       "      <th></th>\n",
       "      <th>name</th>\n",
       "      <th>ratings</th>\n",
       "      <th>price</th>\n",
       "      <th>imgURL</th>\n",
       "      <th>storage_ram</th>\n",
       "      <th>os_processor</th>\n",
       "      <th>camera</th>\n",
       "      <th>display</th>\n",
       "      <th>network</th>\n",
       "      <th>battery</th>\n",
       "    </tr>\n",
       "  </thead>\n",
       "  <tbody>\n",
       "    <tr>\n",
       "      <th>149</th>\n",
       "      <td>SAMSUNG Galaxy S22 Ultra 5G (Phantom Black, 25...</td>\n",
       "      <td>4.3</td>\n",
       "      <td>₹85,999</td>\n",
       "      <td>https://rukminim2.flixcart.com/image/312/312/x...</td>\n",
       "      <td>Internal Storage256 GBRAM12 GBCall Log MemoryYes</td>\n",
       "      <td>Operating SystemAndroid 12Processor TypeOcta C...</td>\n",
       "      <td>Primary Camera AvailableYesPrimary Camera108MP...</td>\n",
       "      <td>Display Size17.27 cm (6.8 inch)Resolution3088 ...</td>\n",
       "      <td>Network Type5G, 4G, 3G, 2GSupported Networks5G...</td>\n",
       "      <td>Battery Capacity5000 mAhDual BatteryNo</td>\n",
       "    </tr>\n",
       "    <tr>\n",
       "      <th>575</th>\n",
       "      <td>SAMSUNG Galaxy S22 (Pink Gold, 128 GB)</td>\n",
       "      <td>NaN</td>\n",
       "      <td>₹85,999</td>\n",
       "      <td>https://rukminim2.flixcart.com/image/312/312/x...</td>\n",
       "      <td>Internal Storage128 GBRAM8 GBMemory Card Slot ...</td>\n",
       "      <td>Operating SystemAndroid Android 12.0Processor ...</td>\n",
       "      <td>Primary Camera50MP Rear CameraDual Camera Lens...</td>\n",
       "      <td>Display Size15.49 cm (6.1 inch)Resolution2340x...</td>\n",
       "      <td>Network Type5GSupported Networks5G</td>\n",
       "      <td>Battery Capacity3700 mAh</td>\n",
       "    </tr>\n",
       "  </tbody>\n",
       "</table>\n",
       "</div>"
      ],
      "text/plain": [
       "                                                  name  ratings    price  \\\n",
       "149  SAMSUNG Galaxy S22 Ultra 5G (Phantom Black, 25...      4.3  ₹85,999   \n",
       "575             SAMSUNG Galaxy S22 (Pink Gold, 128 GB)      NaN  ₹85,999   \n",
       "\n",
       "                                                imgURL  \\\n",
       "149  https://rukminim2.flixcart.com/image/312/312/x...   \n",
       "575  https://rukminim2.flixcart.com/image/312/312/x...   \n",
       "\n",
       "                                           storage_ram  \\\n",
       "149   Internal Storage256 GBRAM12 GBCall Log MemoryYes   \n",
       "575  Internal Storage128 GBRAM8 GBMemory Card Slot ...   \n",
       "\n",
       "                                          os_processor  \\\n",
       "149  Operating SystemAndroid 12Processor TypeOcta C...   \n",
       "575  Operating SystemAndroid Android 12.0Processor ...   \n",
       "\n",
       "                                                camera  \\\n",
       "149  Primary Camera AvailableYesPrimary Camera108MP...   \n",
       "575  Primary Camera50MP Rear CameraDual Camera Lens...   \n",
       "\n",
       "                                               display  \\\n",
       "149  Display Size17.27 cm (6.8 inch)Resolution3088 ...   \n",
       "575  Display Size15.49 cm (6.1 inch)Resolution2340x...   \n",
       "\n",
       "                                               network  \\\n",
       "149  Network Type5G, 4G, 3G, 2GSupported Networks5G...   \n",
       "575                 Network Type5GSupported Networks5G   \n",
       "\n",
       "                                    battery  \n",
       "149  Battery Capacity5000 mAhDual BatteryNo  \n",
       "575                Battery Capacity3700 mAh  "
      ]
     },
     "execution_count": 39,
     "metadata": {},
     "output_type": "execute_result"
    }
   ],
   "source": [
    "price_grp.get_group('₹85,999')"
   ]
  },
  {
   "cell_type": "code",
   "execution_count": null,
   "id": "8e5a3dbb-179c-407d-a958-96f9268d1d20",
   "metadata": {},
   "outputs": [],
   "source": [
    "\n",
    "####################################################################\n"
   ]
  },
  {
   "cell_type": "code",
   "execution_count": 57,
   "id": "503dec08-7ed4-417f-9aa4-70728947af76",
   "metadata": {},
   "outputs": [
    {
     "data": {
      "text/plain": [
       "10"
      ]
     },
     "execution_count": 57,
     "metadata": {},
     "output_type": "execute_result"
    }
   ],
   "source": [
    "price_grp['price'].value_counts().loc['₹15,999']"
   ]
  },
  {
   "cell_type": "code",
   "execution_count": 42,
   "id": "3035679d-b7d6-46bb-a6af-969e5da03e9a",
   "metadata": {
    "scrolled": true
   },
   "outputs": [
    {
     "data": {
      "text/plain": [
       "name\n",
       "SAMSUNG Galaxy S21 FE 5G (Graphite, 128 GB)       1\n",
       "SAMSUNG Galaxy S21 FE 5G (Lavender, 128 GB)       1\n",
       "SAMSUNG Galaxy S21 FE 5G (Olive Green, 128 GB)    1\n",
       "SAMSUNG Galaxy S21 FE 5G (White, 128 GB)          1\n",
       "SAMSUNG Galaxy F62 (Laser Blue, 128 GB)           1\n",
       "SAMSUNG Galaxy A53 (Awesome White, 128 GB)        1\n",
       "SAMSUNG Galaxy A53 (Awesome Blue, 128 GB)         1\n",
       "SAMSUNG Galaxy A53 (Awesome Black, 128 GB)        1\n",
       "SAMSUNG Galaxy A53 (Awesome Peach, 128 GB)        1\n",
       "SAMSUNG Galaxy A52 (Awesome Violet, 128 GB)       1\n",
       "SAMSUNG Galaxy A52 (Awesome Black, 128 GB)        1\n",
       "Name: count, dtype: int64"
      ]
     },
     "execution_count": 42,
     "metadata": {},
     "output_type": "execute_result"
    }
   ],
   "source": [
    "flit=df['price']==\"₹31,999\"\n",
    "df.loc[flit]['name'].value_counts()"
   ]
  },
  {
   "cell_type": "code",
   "execution_count": 43,
   "id": "0ef344e4-afeb-4948-b752-9db8631dae63",
   "metadata": {},
   "outputs": [
    {
     "data": {
      "text/plain": [
       "name\n",
       "OPPO Reno10 5G (Silvery Grey, 256 GB)               8\n",
       "OPPO Reno10 5G (Ice Blue, 256 GB)                   6\n",
       "SAMSUNG Galaxy A34 5G (Awesome Violet, 256 GB)      1\n",
       "SAMSUNG Galaxy A34 5G (Awesome Graphite, 256 GB)    1\n",
       "SAMSUNG Galaxy A34 5G (Awesome Lime, 256 GB)        1\n",
       "SAMSUNG Galaxy M53 5G (Emerald Brown, 128 GB)       1\n",
       "SAMSUNG Galaxy M53 5G (Mystique Green, 128 GB)      1\n",
       "SAMSUNG Galaxy M52 5G (Blazing Black, 128 GB)       1\n",
       "SAMSUNG Galaxy A34 5G (Awesome Silver, 256 GB)      1\n",
       "Name: count, dtype: int64"
      ]
     },
     "execution_count": 43,
     "metadata": {},
     "output_type": "execute_result"
    }
   ],
   "source": [
    "flit=df['price']==\"₹32,999\"\n",
    "df.loc[flit]['name'].value_counts()"
   ]
  },
  {
   "cell_type": "code",
   "execution_count": 61,
   "id": "50638ee7-fc6d-4064-a174-ad38a64082a4",
   "metadata": {},
   "outputs": [],
   "source": [
    "\n",
    "\n",
    "################################################################################################################################################\n",
    "\n"
   ]
  },
  {
   "cell_type": "code",
   "execution_count": 62,
   "id": "15ef1fea-a1d4-407a-a59e-f4286f394597",
   "metadata": {},
   "outputs": [],
   "source": [
    "os_processor_grp=df.groupby([\"os_processor\"])"
   ]
  },
  {
   "cell_type": "code",
   "execution_count": 63,
   "id": "3b00cb1f-c472-4404-851b-47e25af88e22",
   "metadata": {},
   "outputs": [
    {
     "data": {
      "text/plain": [
       "os_processor\n",
       "Operating FrequencyGSM - 900, 1800                                                                                              4\n",
       "Operating System0Primary Clock Speed208 MHzOperating FrequencyGSM - 900, 1800                                                   1\n",
       "Operating System0V                                                                                                              1\n",
       "Operating System0vOperating FrequencyGSM - 900, 1800                                                                            1\n",
       "Operating System1Processor CoreSingle CorePrimary Clock Speed1 MHz                                                              1\n",
       "                                                                                                                               ..\n",
       "Operating SystemSeries 30 Feature phoneProcessor CoreSingle CorePrimary Clock Speed208 MHzOperating FrequencyGSM - 900, 1800    1\n",
       "Operating SystemSeries 30 Propreitory Vna (Series 30)Primary Clock Speed208 MHz                                                 1\n",
       "Operating SystemSeries 30 Propreitory vNA (Series 30)Primary Clock Speed208 MHzOperating FrequencyGSM - 900, 1800               1\n",
       "Operating SystemSeries 30Processor TypeNAProcessor CoreSingle CorePrimary Clock Speed208 MHz                                    1\n",
       "Operating SystemTizenProcessor CoreQuad CorePrimary Clock Speed1.5 GHz                                                          1\n",
       "Name: count, Length: 160, dtype: int64"
      ]
     },
     "execution_count": 63,
     "metadata": {},
     "output_type": "execute_result"
    }
   ],
   "source": [
    "os_processor_grp['os_processor'].value_counts()"
   ]
  },
  {
   "cell_type": "code",
   "execution_count": 64,
   "id": "1456fc6e-ecdb-45b8-8c3b-18742bffa988",
   "metadata": {},
   "outputs": [
    {
     "data": {
      "text/plain": [
       "os_processor\n",
       "Operating FrequencyGSM - 900, 1800                                               4\n",
       "Operating System0Primary Clock Speed208 MHzOperating FrequencyGSM - 900, 1800    1\n",
       "Operating System0V                                                               1\n",
       "Operating System0vOperating FrequencyGSM - 900, 1800                             1\n",
       "Operating System1Processor CoreSingle CorePrimary Clock Speed1 MHz               1\n",
       "Name: count, dtype: int64"
      ]
     },
     "execution_count": 64,
     "metadata": {},
     "output_type": "execute_result"
    }
   ],
   "source": [
    "os_processor_grp['os_processor'].value_counts().head(5)"
   ]
  },
  {
   "cell_type": "code",
   "execution_count": 65,
   "id": "ee674148-569e-477a-84b0-59a3eabcfcfd",
   "metadata": {},
   "outputs": [
    {
     "data": {
      "text/plain": [
       "4"
      ]
     },
     "execution_count": 65,
     "metadata": {},
     "output_type": "execute_result"
    }
   ],
   "source": [
    "os_processor_grp['os_processor'].value_counts().loc['Operating FrequencyGSM - 900, 1800']"
   ]
  },
  {
   "cell_type": "code",
   "execution_count": 66,
   "id": "d4fcf36d-ed77-49f0-bb6f-e6cf63af7215",
   "metadata": {},
   "outputs": [],
   "source": [
    "ratings_grp=df.groupby([\"ratings\"])"
   ]
  },
  {
   "cell_type": "code",
   "execution_count": 67,
   "id": "8bfd1c25-be33-4dd7-addc-fc95f0fcaca4",
   "metadata": {},
   "outputs": [
    {
     "data": {
      "text/plain": [
       "ratings\n",
       "2.9      4\n",
       "3.1      1\n",
       "3.3      2\n",
       "3.6      1\n",
       "3.7      9\n",
       "3.8      3\n",
       "3.9     11\n",
       "4.0     37\n",
       "4.1     98\n",
       "4.2    165\n",
       "4.3    153\n",
       "4.4     37\n",
       "4.5     24\n",
       "4.6      5\n",
       "4.7      2\n",
       "4.8      1\n",
       "Name: count, dtype: int64"
      ]
     },
     "execution_count": 67,
     "metadata": {},
     "output_type": "execute_result"
    }
   ],
   "source": [
    "ratings_grp['ratings'].value_counts()"
   ]
  },
  {
   "cell_type": "code",
   "execution_count": 70,
   "id": "af174094-7ffd-4b7b-aaf8-e8f8f72c9331",
   "metadata": {},
   "outputs": [],
   "source": [
    "price_grp=df.groupby([\"price\"])"
   ]
  },
  {
   "cell_type": "code",
   "execution_count": 71,
   "id": "ed340046-9149-48a6-8861-7b5ea08d8bd7",
   "metadata": {},
   "outputs": [
    {
     "data": {
      "text/plain": [
       "price\n",
       "₹1,01,999    1\n",
       "₹1,04,999    3\n",
       "₹1,10,000    1\n",
       "₹1,11,000    1\n",
       "₹1,11,990    1\n",
       "            ..\n",
       "₹9,499       4\n",
       "₹9,999       5\n",
       "₹91,998      1\n",
       "₹94,999      5\n",
       "₹99,900      1\n",
       "Name: count, Length: 267, dtype: int64"
      ]
     },
     "execution_count": 71,
     "metadata": {},
     "output_type": "execute_result"
    }
   ],
   "source": [
    "price_grp['price'].value_counts()"
   ]
  },
  {
   "cell_type": "code",
   "execution_count": 73,
   "id": "17403320-d8d6-4559-8cb8-011d238e53ce",
   "metadata": {},
   "outputs": [
    {
     "data": {
      "text/plain": [
       "4"
      ]
     },
     "execution_count": 73,
     "metadata": {},
     "output_type": "execute_result"
    }
   ],
   "source": [
    "price_grp['price'].value_counts().loc['₹9,499']"
   ]
  },
  {
   "cell_type": "code",
   "execution_count": null,
   "id": "164f5704-8e2c-48be-962f-ee26602fde2d",
   "metadata": {},
   "outputs": [],
   "source": [
    "\n",
    "\n",
    "###################################################################################################################################################\n",
    "\n"
   ]
  },
  {
   "cell_type": "code",
   "execution_count": 86,
   "id": "16600de8-9a31-46a3-b34b-c67574a697c0",
   "metadata": {},
   "outputs": [
    {
     "data": {
      "text/plain": [
       "0     False\n",
       "1     False\n",
       "2     False\n",
       "3     False\n",
       "12    False\n",
       "17    False\n",
       "Name: price, dtype: bool"
      ]
     },
     "execution_count": 86,
     "metadata": {},
     "output_type": "execute_result"
    }
   ],
   "source": [
    "flit5=df['battery']==\"Battery Capacity6000 mAhDual BatteryNo\"\n",
    "df.loc[flit5]['price'].str.contains('₹9,999 ')"
   ]
  },
  {
   "cell_type": "code",
   "execution_count": 87,
   "id": "1984d19c-aa0e-47e5-95c8-429f74caf8ed",
   "metadata": {},
   "outputs": [
    {
     "data": {
      "text/plain": [
       "0"
      ]
     },
     "execution_count": 87,
     "metadata": {},
     "output_type": "execute_result"
    }
   ],
   "source": [
    "flit5=df['battery']==\"Battery Capacity6000 mAhDual BatteryNo\"\n",
    "df.loc[flit5]['price'].str.contains('₹9,999 ').sum()"
   ]
  },
  {
   "cell_type": "code",
   "execution_count": null,
   "id": "f69740f5-4607-4110-9772-be7780a83461",
   "metadata": {},
   "outputs": [],
   "source": []
  }
 ],
 "metadata": {
  "kernelspec": {
   "display_name": "Python 3 (ipykernel)",
   "language": "python",
   "name": "python3"
  },
  "language_info": {
   "codemirror_mode": {
    "name": "ipython",
    "version": 3
   },
   "file_extension": ".py",
   "mimetype": "text/x-python",
   "name": "python",
   "nbconvert_exporter": "python",
   "pygments_lexer": "ipython3",
   "version": "3.12.1"
  }
 },
 "nbformat": 4,
 "nbformat_minor": 5
}
